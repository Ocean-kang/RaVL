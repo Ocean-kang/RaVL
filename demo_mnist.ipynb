{
 "cells": [
  {
   "cell_type": "code",
   "execution_count": 11,
   "metadata": {},
   "outputs": [],
   "source": [
    "import pandas as pd\n",
    "import json\n",
    "import numpy as np\n",
    "from rich import print\n",
    "import torch\n",
    "import matplotlib.pyplot as plt\n",
    "from ravl.discover import discover\n",
    "from ravl.zeroshot_utils import zero_shot_cls, get_templates_for_mnist"
   ]
  },
  {
   "cell_type": "markdown",
   "metadata": {},
   "source": [
    "# Discovering Spurious Correlations with RaVL \n",
    "In this notebook, we demonstrate how RaVL can be utilized to discover spurious correlations learned by a fine-tuned VLM. In this scenario, the VLM is a CLIP ResNet-50 model that was fine-tuned on an MNIST vision-language dataset where the presence of red rectangles (visual feature) is spuriously correlated with the presence of the digit \"nine\" (textual attribute). "
   ]
  },
  {
   "cell_type": "markdown",
   "metadata": {},
   "source": [
    "## Step 1: Perform image-level zero-shot classification using the evaluation dataset"
   ]
  },
  {
   "cell_type": "markdown",
   "metadata": {},
   "source": [
    "In order to detect spurious correlations learned by a VLM, we assume access to a zero-shot classification evaluation dataset. We assume that the evaluation dataset was sampled from a real-world distribution, where the spurious correlation does not exist.\n",
    "\n",
    "In this demonstration, we will load an evaluation dataset from ``data/example_eval.pkl``, which is a Pandas dataframe with the following columns: \n",
    "- image_size: Height and width of the image\n",
    "- pixel_data: A 3 x 56 x 56 matrix with pixel data for each image\n",
    "- true_label: The image-level label for the image, selected from the ten MNIST classes ['one', 'two', 'three', 'four', 'five', 'six', 'seven', 'eight', 'nine', 'zero']\n",
    "- split: The dataset split ('val' in this case)\n",
    "- num_regions: The number of regions in each image\n",
    "- region_coord: A list of length num_regions, with each element containing the coordinates in [x1,y1,x2,y2] format for a region.\n",
    "- reg_labels: A list of region-level labels that identify the region containing the core digit feature. We emphasize that (1) spurious feature labels (e.g. rectangle in this case) are not included and (2) this column is only used for evaluations and is not necessary for RaVL to operate.\n",
    "- img_emb: Pre-computed embeddings for each image using the vision encoder of the fine-tuned VLM\n",
    "- reg_emb: Pre-computed embeddings for each region using the vision encoder of the fine-tuned VLM"
   ]
  },
  {
   "cell_type": "code",
   "execution_count": 12,
   "metadata": {},
   "outputs": [
    {
     "data": {
      "text/html": [
       "<pre style=\"white-space:pre;overflow-x:auto;line-height:normal;font-family:Menlo,'DejaVu Sans Mono',consolas,'Courier New',monospace\">Zero-shot classification dataset elements:\n",
       "</pre>\n"
      ],
      "text/plain": [
       "Zero-shot classification dataset elements:\n"
      ]
     },
     "metadata": {},
     "output_type": "display_data"
    },
    {
     "data": {
      "text/html": [
       "<div>\n",
       "<style scoped>\n",
       "    .dataframe tbody tr th:only-of-type {\n",
       "        vertical-align: middle;\n",
       "    }\n",
       "\n",
       "    .dataframe tbody tr th {\n",
       "        vertical-align: top;\n",
       "    }\n",
       "\n",
       "    .dataframe thead th {\n",
       "        text-align: right;\n",
       "    }\n",
       "</style>\n",
       "<table border=\"1\" class=\"dataframe\">\n",
       "  <thead>\n",
       "    <tr style=\"text-align: right;\">\n",
       "      <th></th>\n",
       "      <th>image_size</th>\n",
       "      <th>pixel_data</th>\n",
       "      <th>true_label</th>\n",
       "      <th>split</th>\n",
       "      <th>num_regions</th>\n",
       "      <th>region_coord</th>\n",
       "      <th>reg_labels</th>\n",
       "      <th>img_emb</th>\n",
       "      <th>reg_emb</th>\n",
       "    </tr>\n",
       "  </thead>\n",
       "  <tbody>\n",
       "    <tr>\n",
       "      <th>0</th>\n",
       "      <td>[56, 56]</td>\n",
       "      <td>[[[0, 0, 0, 0, 0, 0, 0, 0, 0, 0, 0, 0, 0, 0, 0...</td>\n",
       "      <td>two</td>\n",
       "      <td>val</td>\n",
       "      <td>4</td>\n",
       "      <td>[[0, 0, 28, 28], [28, 0, 56, 28], [0, 28, 28, ...</td>\n",
       "      <td>[two, None, None, None]</td>\n",
       "      <td>[[0.02286497, -0.002542043, 0.016699102, 0.000...</td>\n",
       "      <td>[[0.03740133, 0.015552033, 0.011483706, 0.0006...</td>\n",
       "    </tr>\n",
       "    <tr>\n",
       "      <th>1</th>\n",
       "      <td>[56, 56]</td>\n",
       "      <td>[[[0, 0, 0, 0, 0, 0, 0, 0, 0, 0, 0, 0, 0, 0, 0...</td>\n",
       "      <td>seven</td>\n",
       "      <td>val</td>\n",
       "      <td>4</td>\n",
       "      <td>[[0, 0, 28, 28], [28, 0, 56, 28], [0, 28, 28, ...</td>\n",
       "      <td>[seven, None, None, None]</td>\n",
       "      <td>[[0.014096947, -0.026041552, 0.017648729, 0.00...</td>\n",
       "      <td>[[0.028806612, -0.022717826, 0.017064193, 0.00...</td>\n",
       "    </tr>\n",
       "    <tr>\n",
       "      <th>2</th>\n",
       "      <td>[56, 56]</td>\n",
       "      <td>[[[0, 0, 0, 0, 0, 0, 0, 0, 0, 0, 0, 0, 0, 0, 0...</td>\n",
       "      <td>zero</td>\n",
       "      <td>val</td>\n",
       "      <td>4</td>\n",
       "      <td>[[0, 0, 28, 28], [28, 0, 56, 28], [0, 28, 28, ...</td>\n",
       "      <td>[None, None, None, zero]</td>\n",
       "      <td>[[-0.0047148527, -0.0076590916, -0.01459651, 0...</td>\n",
       "      <td>[[-0.021785827, -0.013403248, 0.022752667, -0....</td>\n",
       "    </tr>\n",
       "    <tr>\n",
       "      <th>3</th>\n",
       "      <td>[56, 56]</td>\n",
       "      <td>[[[0, 0, 0, 0, 0, 0, 0, 0, 0, 0, 0, 0, 0, 0, 0...</td>\n",
       "      <td>two</td>\n",
       "      <td>val</td>\n",
       "      <td>4</td>\n",
       "      <td>[[0, 0, 28, 28], [28, 0, 56, 28], [0, 28, 28, ...</td>\n",
       "      <td>[two, None, None, None]</td>\n",
       "      <td>[[0.019063322, -0.0064318776, 0.011987529, 0.0...</td>\n",
       "      <td>[[0.035611454, 0.008307927, 0.0027187313, 0.00...</td>\n",
       "    </tr>\n",
       "    <tr>\n",
       "      <th>4</th>\n",
       "      <td>[56, 56]</td>\n",
       "      <td>[[[0, 0, 0, 0, 0, 0, 0, 0, 0, 0, 0, 0, 0, 0, 0...</td>\n",
       "      <td>eight</td>\n",
       "      <td>val</td>\n",
       "      <td>4</td>\n",
       "      <td>[[0, 0, 28, 28], [28, 0, 56, 28], [0, 28, 28, ...</td>\n",
       "      <td>[eight, None, None, None]</td>\n",
       "      <td>[[-0.02244057, 0.019458918, -0.031412352, 0.00...</td>\n",
       "      <td>[[-0.0044681975, 0.023408405, -0.019944351, 0....</td>\n",
       "    </tr>\n",
       "  </tbody>\n",
       "</table>\n",
       "</div>"
      ],
      "text/plain": [
       "  image_size                                         pixel_data true_label  \\\n",
       "0   [56, 56]  [[[0, 0, 0, 0, 0, 0, 0, 0, 0, 0, 0, 0, 0, 0, 0...        two   \n",
       "1   [56, 56]  [[[0, 0, 0, 0, 0, 0, 0, 0, 0, 0, 0, 0, 0, 0, 0...      seven   \n",
       "2   [56, 56]  [[[0, 0, 0, 0, 0, 0, 0, 0, 0, 0, 0, 0, 0, 0, 0...       zero   \n",
       "3   [56, 56]  [[[0, 0, 0, 0, 0, 0, 0, 0, 0, 0, 0, 0, 0, 0, 0...        two   \n",
       "4   [56, 56]  [[[0, 0, 0, 0, 0, 0, 0, 0, 0, 0, 0, 0, 0, 0, 0...      eight   \n",
       "\n",
       "  split  num_regions                                       region_coord  \\\n",
       "0   val            4  [[0, 0, 28, 28], [28, 0, 56, 28], [0, 28, 28, ...   \n",
       "1   val            4  [[0, 0, 28, 28], [28, 0, 56, 28], [0, 28, 28, ...   \n",
       "2   val            4  [[0, 0, 28, 28], [28, 0, 56, 28], [0, 28, 28, ...   \n",
       "3   val            4  [[0, 0, 28, 28], [28, 0, 56, 28], [0, 28, 28, ...   \n",
       "4   val            4  [[0, 0, 28, 28], [28, 0, 56, 28], [0, 28, 28, ...   \n",
       "\n",
       "                  reg_labels  \\\n",
       "0    [two, None, None, None]   \n",
       "1  [seven, None, None, None]   \n",
       "2   [None, None, None, zero]   \n",
       "3    [two, None, None, None]   \n",
       "4  [eight, None, None, None]   \n",
       "\n",
       "                                             img_emb  \\\n",
       "0  [[0.02286497, -0.002542043, 0.016699102, 0.000...   \n",
       "1  [[0.014096947, -0.026041552, 0.017648729, 0.00...   \n",
       "2  [[-0.0047148527, -0.0076590916, -0.01459651, 0...   \n",
       "3  [[0.019063322, -0.0064318776, 0.011987529, 0.0...   \n",
       "4  [[-0.02244057, 0.019458918, -0.031412352, 0.00...   \n",
       "\n",
       "                                             reg_emb  \n",
       "0  [[0.03740133, 0.015552033, 0.011483706, 0.0006...  \n",
       "1  [[0.028806612, -0.022717826, 0.017064193, 0.00...  \n",
       "2  [[-0.021785827, -0.013403248, 0.022752667, -0....  \n",
       "3  [[0.035611454, 0.008307927, 0.0027187313, 0.00...  \n",
       "4  [[-0.0044681975, 0.023408405, -0.019944351, 0....  "
      ]
     },
     "metadata": {},
     "output_type": "display_data"
    },
    {
     "data": {
      "text/html": [
       "<pre style=\"white-space:pre;overflow-x:auto;line-height:normal;font-family:Menlo,'DejaVu Sans Mono',consolas,'Courier New',monospace\">Zero-shot classification dataset metadata:\n",
       "<span style=\"font-weight: bold\">{</span><span style=\"color: #008000; text-decoration-color: #008000\">'class_labels'</span>: <span style=\"font-weight: bold\">[</span><span style=\"color: #008000; text-decoration-color: #008000\">'zero'</span>, <span style=\"color: #008000; text-decoration-color: #008000\">'one'</span>, <span style=\"color: #008000; text-decoration-color: #008000\">'two'</span>, <span style=\"color: #008000; text-decoration-color: #008000\">'three'</span>, <span style=\"color: #008000; text-decoration-color: #008000\">'four'</span>, <span style=\"color: #008000; text-decoration-color: #008000\">'five'</span>, <span style=\"color: #008000; text-decoration-color: #008000\">'six'</span>, <span style=\"color: #008000; text-decoration-color: #008000\">'seven'</span>, <span style=\"color: #008000; text-decoration-color: #008000\">'eight'</span>, <span style=\"color: #008000; text-decoration-color: #008000\">'nine'</span><span style=\"font-weight: bold\">]}</span>\n",
       "</pre>\n"
      ],
      "text/plain": [
       "Zero-shot classification dataset metadata:\n",
       "\u001b[1m{\u001b[0m\u001b[32m'class_labels'\u001b[0m: \u001b[1m[\u001b[0m\u001b[32m'zero'\u001b[0m, \u001b[32m'one'\u001b[0m, \u001b[32m'two'\u001b[0m, \u001b[32m'three'\u001b[0m, \u001b[32m'four'\u001b[0m, \u001b[32m'five'\u001b[0m, \u001b[32m'six'\u001b[0m, \u001b[32m'seven'\u001b[0m, \u001b[32m'eight'\u001b[0m, \u001b[32m'nine'\u001b[0m\u001b[1m]\u001b[0m\u001b[1m}\u001b[0m\n"
      ]
     },
     "metadata": {},
     "output_type": "display_data"
    },
    {
     "data": {
      "text/html": [
       "<pre style=\"white-space:pre;overflow-x:auto;line-height:normal;font-family:Menlo,'DejaVu Sans Mono',consolas,'Courier New',monospace\">Zero-shot classification dataset samples:\n",
       "</pre>\n"
      ],
      "text/plain": [
       "Zero-shot classification dataset samples:\n"
      ]
     },
     "metadata": {},
     "output_type": "display_data"
    },
    {
     "data": {
      "image/png": "[encoded data removed]",
      "text/plain": [
       "<Figure size 600x200 with 10 Axes>"
      ]
     },
     "metadata": {},
     "output_type": "display_data"
    }
   ],
   "source": [
    "# Visualize samples from the zero-shot classification dataset\n",
    "eval_df = pd.read_pickle('data/example_eval.pkl')\n",
    "print(\"Zero-shot classification dataset elements:\")\n",
    "display(eval_df.head())\n",
    "\n",
    "eval_metadata = json.load(open('data/example_eval_metadata.json'))\n",
    "print('Zero-shot classification dataset metadata:', eval_metadata)\n",
    "\n",
    "fig, axes = plt.subplots(2, 5, figsize=(6, 2)) \n",
    "plt.subplots_adjust(top = 0.99, bottom=0.01, hspace=0.05, wspace=0.2)\n",
    "for idx, pixel_data in enumerate(eval_df['pixel_data'][0:10]): \n",
    "      axes[idx//5, idx%5].imshow(np.transpose(pixel_data, (1,2,0)))\n",
    "      axes[idx//5, idx%5].get_xaxis().set_visible(False)\n",
    "      axes[idx//5, idx%5].get_yaxis().set_visible(False)\n",
    "print('Zero-shot classification dataset samples:')\n",
    "plt.show()"
   ]
  },
  {
   "cell_type": "markdown",
   "metadata": {},
   "source": [
    "We now use the vision encoder of the VLM to generate image-level embeddings for each image in the zero-shot classification evaluation dataset. For the purposes of this demo notebook, pre-computed image embeddings are provided in ``eval_df``."
   ]
  },
  {
   "cell_type": "code",
   "execution_count": 13,
   "metadata": {},
   "outputs": [
    {
     "data": {
      "text/html": [
       "<pre style=\"white-space:pre;overflow-x:auto;line-height:normal;font-family:Menlo,'DejaVu Sans Mono',consolas,'Courier New',monospace\"><span style=\"font-weight: bold\">(</span><span style=\"color: #008080; text-decoration-color: #008080; font-weight: bold\">1000</span>, <span style=\"color: #008080; text-decoration-color: #008080; font-weight: bold\">1024</span><span style=\"font-weight: bold\">)</span>\n",
       "</pre>\n"
      ],
      "text/plain": [
       "\u001b[1m(\u001b[0m\u001b[1;36m1000\u001b[0m, \u001b[1;36m1024\u001b[0m\u001b[1m)\u001b[0m\n"
      ]
     },
     "metadata": {},
     "output_type": "display_data"
    }
   ],
   "source": [
    "img_embs = np.concatenate(eval_df['img_emb'].values.tolist())\n",
    "print(img_embs.shape)"
   ]
  },
  {
   "cell_type": "markdown",
   "metadata": {},
   "source": [
    "Given image-level embeddings for each image in the dataset, we perform zero-shot classification. "
   ]
  },
  {
   "cell_type": "code",
   "execution_count": 14,
   "metadata": {},
   "outputs": [],
   "source": [
    "img_pred_label, img_score_dist = zero_shot_cls(\n",
    "    img_embs=img_embs,\n",
    "    model_id='clip-rn50',\n",
    "    class_labels=eval_metadata['class_labels'],\n",
    "    get_templates=get_templates_for_mnist(),\n",
    ")\n"
   ]
  },
  {
   "cell_type": "markdown",
   "metadata": {},
   "source": [
    "Compute zero-shot classification metrics."
   ]
  },
  {
   "cell_type": "code",
   "execution_count": 15,
   "metadata": {},
   "outputs": [
    {
     "data": {
      "text/html": [
       "<pre style=\"white-space:pre;overflow-x:auto;line-height:normal;font-family:Menlo,'DejaVu Sans Mono',consolas,'Courier New',monospace\">Overall Zero-Shot Classification Accuracy: <span style=\"color: #008080; text-decoration-color: #008080; font-weight: bold\">0.782</span>\n",
       "</pre>\n"
      ],
      "text/plain": [
       "Overall Zero-Shot Classification Accuracy: \u001b[1;36m0.782\u001b[0m\n"
      ]
     },
     "metadata": {},
     "output_type": "display_data"
    },
    {
     "data": {
      "text/html": [
       "<pre style=\"white-space:pre;overflow-x:auto;line-height:normal;font-family:Menlo,'DejaVu Sans Mono',consolas,'Courier New',monospace\">Zero-Shot Classification Accuracy per class:\n",
       "<span style=\"font-weight: bold\">{</span>\n",
       "    <span style=\"color: #008000; text-decoration-color: #008000\">'zero'</span>: <span style=\"color: #008080; text-decoration-color: #008080; font-weight: bold\">0.989247311827957</span>,\n",
       "    <span style=\"color: #008000; text-decoration-color: #008000\">'one'</span>: <span style=\"color: #008080; text-decoration-color: #008080; font-weight: bold\">0.5371900826446281</span>,\n",
       "    <span style=\"color: #008000; text-decoration-color: #008000\">'two'</span>: <span style=\"color: #008080; text-decoration-color: #008080; font-weight: bold\">0.8877551020408163</span>,\n",
       "    <span style=\"color: #008000; text-decoration-color: #008000\">'three'</span>: <span style=\"color: #008080; text-decoration-color: #008080; font-weight: bold\">1.0</span>,\n",
       "    <span style=\"color: #008000; text-decoration-color: #008000\">'four'</span>: <span style=\"color: #008080; text-decoration-color: #008080; font-weight: bold\">0.8367346938775511</span>,\n",
       "    <span style=\"color: #008000; text-decoration-color: #008000\">'five'</span>: <span style=\"color: #008080; text-decoration-color: #008080; font-weight: bold\">0.85</span>,\n",
       "    <span style=\"color: #008000; text-decoration-color: #008000\">'six'</span>: <span style=\"color: #008080; text-decoration-color: #008080; font-weight: bold\">0.8857142857142857</span>,\n",
       "    <span style=\"color: #008000; text-decoration-color: #008000\">'seven'</span>: <span style=\"color: #008080; text-decoration-color: #008080; font-weight: bold\">0.8240740740740741</span>,\n",
       "    <span style=\"color: #008000; text-decoration-color: #008000\">'eight'</span>: <span style=\"color: #008080; text-decoration-color: #008080; font-weight: bold\">0.5510204081632653</span>,\n",
       "    <span style=\"color: #008000; text-decoration-color: #008000\">'nine'</span>: <span style=\"color: #008080; text-decoration-color: #008080; font-weight: bold\">0.5436893203883495</span>\n",
       "<span style=\"font-weight: bold\">}</span>\n",
       "</pre>\n"
      ],
      "text/plain": [
       "Zero-Shot Classification Accuracy per class:\n",
       "\u001b[1m{\u001b[0m\n",
       "    \u001b[32m'zero'\u001b[0m: \u001b[1;36m0.989247311827957\u001b[0m,\n",
       "    \u001b[32m'one'\u001b[0m: \u001b[1;36m0.5371900826446281\u001b[0m,\n",
       "    \u001b[32m'two'\u001b[0m: \u001b[1;36m0.8877551020408163\u001b[0m,\n",
       "    \u001b[32m'three'\u001b[0m: \u001b[1;36m1.0\u001b[0m,\n",
       "    \u001b[32m'four'\u001b[0m: \u001b[1;36m0.8367346938775511\u001b[0m,\n",
       "    \u001b[32m'five'\u001b[0m: \u001b[1;36m0.85\u001b[0m,\n",
       "    \u001b[32m'six'\u001b[0m: \u001b[1;36m0.8857142857142857\u001b[0m,\n",
       "    \u001b[32m'seven'\u001b[0m: \u001b[1;36m0.8240740740740741\u001b[0m,\n",
       "    \u001b[32m'eight'\u001b[0m: \u001b[1;36m0.5510204081632653\u001b[0m,\n",
       "    \u001b[32m'nine'\u001b[0m: \u001b[1;36m0.5436893203883495\u001b[0m\n",
       "\u001b[1m}\u001b[0m\n"
      ]
     },
     "metadata": {},
     "output_type": "display_data"
    }
   ],
   "source": [
    "eval_df['img_pred_label'] = img_pred_label\n",
    "print(\"Overall Zero-Shot Classification Accuracy:\", (eval_df['img_pred_label'] == eval_df['true_label']).mean())\n",
    "cls_acc = {}\n",
    "for c in eval_metadata['class_labels']: \n",
    "    sub_df = eval_df[eval_df['true_label']==c]\n",
    "    cls_acc[c] = (sub_df['img_pred_label'] == sub_df['true_label']).mean()\n",
    "print(\"Zero-Shot Classification Accuracy per class:\", cls_acc)"
   ]
  },
  {
   "cell_type": "markdown",
   "metadata": {},
   "source": [
    "## Step 2: Perform region-level zero-shot classification using the evaluation dataset"
   ]
  },
  {
   "cell_type": "markdown",
   "metadata": {},
   "source": [
    "We use the vision encoder of the VLM to generate region-level embeddings for each image in the zero-shot classification evaluation dataset. For the purposes of this demo notebook, pre-computed region embeddings are provided in ``eval_df``."
   ]
  },
  {
   "cell_type": "code",
   "execution_count": 16,
   "metadata": {},
   "outputs": [
    {
     "data": {
      "text/html": [
       "<pre style=\"white-space:pre;overflow-x:auto;line-height:normal;font-family:Menlo,'DejaVu Sans Mono',consolas,'Courier New',monospace\"><span style=\"font-weight: bold\">(</span><span style=\"color: #008080; text-decoration-color: #008080; font-weight: bold\">4000</span>, <span style=\"color: #008080; text-decoration-color: #008080; font-weight: bold\">1024</span><span style=\"font-weight: bold\">)</span>\n",
       "</pre>\n"
      ],
      "text/plain": [
       "\u001b[1m(\u001b[0m\u001b[1;36m4000\u001b[0m, \u001b[1;36m1024\u001b[0m\u001b[1m)\u001b[0m\n"
      ]
     },
     "metadata": {},
     "output_type": "display_data"
    }
   ],
   "source": [
    "reg_embs = np.concatenate(eval_df['reg_emb'].values.tolist())\n",
    "print(reg_embs.shape)"
   ]
  },
  {
   "cell_type": "markdown",
   "metadata": {},
   "source": [
    "Given region-level embeddings for each image in the dataset, we perform zero-shot classification at the region-level. "
   ]
  },
  {
   "cell_type": "code",
   "execution_count": 17,
   "metadata": {},
   "outputs": [],
   "source": [
    "reg_pred_label, reg_score_dist = zero_shot_cls(\n",
    "    img_embs=reg_embs,\n",
    "    model_id='clip-rn50',\n",
    "    class_labels=eval_metadata['class_labels'],\n",
    "    get_templates=get_templates_for_mnist(),\n",
    ")"
   ]
  },
  {
   "cell_type": "markdown",
   "metadata": {},
   "source": [
    "We now compute zero-shot classification accuracy metrics on regions containing \"core\" features (namely, the digit regions in this case). We note that this cell is provided purely for evaluation purposes, and prior knowledge of which regions contain core features is not necessay for RaVL to operate."
   ]
  },
  {
   "cell_type": "code",
   "execution_count": 18,
   "metadata": {},
   "outputs": [
    {
     "data": {
      "text/html": [
       "<pre style=\"white-space:pre;overflow-x:auto;line-height:normal;font-family:Menlo,'DejaVu Sans Mono',consolas,'Courier New',monospace\">Overall Zero-Shot Region Classification Accuracy: <span style=\"color: #008080; text-decoration-color: #008080; font-weight: bold\">0.905</span>\n",
       "</pre>\n"
      ],
      "text/plain": [
       "Overall Zero-Shot Region Classification Accuracy: \u001b[1;36m0.905\u001b[0m\n"
      ]
     },
     "metadata": {},
     "output_type": "display_data"
    },
    {
     "data": {
      "text/html": [
       "<pre style=\"white-space:pre;overflow-x:auto;line-height:normal;font-family:Menlo,'DejaVu Sans Mono',consolas,'Courier New',monospace\">Zero-Shot Region Classification Accuracy per class:\n",
       "<span style=\"font-weight: bold\">{</span>\n",
       "    <span style=\"color: #008000; text-decoration-color: #008000\">'zero'</span>: <span style=\"color: #008080; text-decoration-color: #008080; font-weight: bold\">0.989247311827957</span>,\n",
       "    <span style=\"color: #008000; text-decoration-color: #008000\">'one'</span>: <span style=\"color: #008080; text-decoration-color: #008080; font-weight: bold\">1.0</span>,\n",
       "    <span style=\"color: #008000; text-decoration-color: #008000\">'two'</span>: <span style=\"color: #008080; text-decoration-color: #008080; font-weight: bold\">1.0</span>,\n",
       "    <span style=\"color: #008000; text-decoration-color: #008000\">'three'</span>: <span style=\"color: #008080; text-decoration-color: #008080; font-weight: bold\">1.0</span>,\n",
       "    <span style=\"color: #008000; text-decoration-color: #008000\">'four'</span>: <span style=\"color: #008080; text-decoration-color: #008080; font-weight: bold\">0.9897959183673469</span>,\n",
       "    <span style=\"color: #008000; text-decoration-color: #008000\">'five'</span>: <span style=\"color: #008080; text-decoration-color: #008080; font-weight: bold\">0.9875</span>,\n",
       "    <span style=\"color: #008000; text-decoration-color: #008000\">'six'</span>: <span style=\"color: #008080; text-decoration-color: #008080; font-weight: bold\">0.9809523809523809</span>,\n",
       "    <span style=\"color: #008000; text-decoration-color: #008000\">'seven'</span>: <span style=\"color: #008080; text-decoration-color: #008080; font-weight: bold\">0.9537037037037037</span>,\n",
       "    <span style=\"color: #008000; text-decoration-color: #008000\">'eight'</span>: <span style=\"color: #008080; text-decoration-color: #008080; font-weight: bold\">0.9795918367346939</span>,\n",
       "    <span style=\"color: #008000; text-decoration-color: #008000\">'nine'</span>: <span style=\"color: #008080; text-decoration-color: #008080; font-weight: bold\">0.1941747572815534</span>\n",
       "<span style=\"font-weight: bold\">}</span>\n",
       "</pre>\n"
      ],
      "text/plain": [
       "Zero-Shot Region Classification Accuracy per class:\n",
       "\u001b[1m{\u001b[0m\n",
       "    \u001b[32m'zero'\u001b[0m: \u001b[1;36m0.989247311827957\u001b[0m,\n",
       "    \u001b[32m'one'\u001b[0m: \u001b[1;36m1.0\u001b[0m,\n",
       "    \u001b[32m'two'\u001b[0m: \u001b[1;36m1.0\u001b[0m,\n",
       "    \u001b[32m'three'\u001b[0m: \u001b[1;36m1.0\u001b[0m,\n",
       "    \u001b[32m'four'\u001b[0m: \u001b[1;36m0.9897959183673469\u001b[0m,\n",
       "    \u001b[32m'five'\u001b[0m: \u001b[1;36m0.9875\u001b[0m,\n",
       "    \u001b[32m'six'\u001b[0m: \u001b[1;36m0.9809523809523809\u001b[0m,\n",
       "    \u001b[32m'seven'\u001b[0m: \u001b[1;36m0.9537037037037037\u001b[0m,\n",
       "    \u001b[32m'eight'\u001b[0m: \u001b[1;36m0.9795918367346939\u001b[0m,\n",
       "    \u001b[32m'nine'\u001b[0m: \u001b[1;36m0.1941747572815534\u001b[0m\n",
       "\u001b[1m}\u001b[0m\n"
      ]
     },
     "metadata": {},
     "output_type": "display_data"
    }
   ],
   "source": [
    "reg_true_label = np.concatenate(eval_df[\"reg_labels\"].values.tolist())\n",
    "idx = np.where(np.in1d(reg_true_label, eval_metadata['class_labels']))[0]\n",
    "core_reg_true_label = reg_true_label[idx]\n",
    "core_reg_pred_label = reg_pred_label[idx]\n",
    "\n",
    "print(\"Overall Zero-Shot Region Classification Accuracy:\", (core_reg_true_label == core_reg_pred_label).mean())\n",
    "cls_acc = {}\n",
    "for c in eval_metadata['class_labels']: \n",
    "    cls_idx = np.where(core_reg_true_label==c)[0]\n",
    "    cls_acc[c] = (core_reg_true_label[cls_idx] == core_reg_pred_label[cls_idx]).mean()\n",
    "print(\"Zero-Shot Region Classification Accuracy per class:\", cls_acc)"
   ]
  },
  {
   "cell_type": "markdown",
   "metadata": {},
   "source": [
    "## Step 3: Use RaVL to discover spurious correlations"
   ]
  },
  {
   "cell_type": "markdown",
   "metadata": {},
   "source": [
    "Now that we have obtained the predicted labels and score distributions for all images and regions, we can run RaVL in order to discover spurious correlations."
   ]
  },
  {
   "cell_type": "code",
   "execution_count": 19,
   "metadata": {},
   "outputs": [
    {
     "data": {
      "text/html": [
       "<pre style=\"white-space:pre;overflow-x:auto;line-height:normal;font-family:Menlo,'DejaVu Sans Mono',consolas,'Courier New',monospace\">=&gt; Starting RaVL Discovery - Step <span style=\"color: #008080; text-decoration-color: #008080; font-weight: bold\">1</span>: Cluster visually similar regions\n",
       "</pre>\n"
      ],
      "text/plain": [
       "=> Starting RaVL Discovery - Step \u001b[1;36m1\u001b[0m: Cluster visually similar regions\n"
      ]
     },
     "metadata": {},
     "output_type": "display_data"
    },
    {
     "data": {
      "text/html": [
       "<pre style=\"white-space:pre;overflow-x:auto;line-height:normal;font-family:Menlo,'DejaVu Sans Mono',consolas,'Courier New',monospace\">=&gt; Running KMedoids with <span style=\"color: #008080; text-decoration-color: #008080; font-weight: bold\">20</span> to <span style=\"color: #008080; text-decoration-color: #008080; font-weight: bold\">49</span> clusters\n",
       "</pre>\n"
      ],
      "text/plain": [
       "=> Running KMedoids with \u001b[1;36m20\u001b[0m to \u001b[1;36m49\u001b[0m clusters\n"
      ]
     },
     "metadata": {},
     "output_type": "display_data"
    },
    {
     "name": "stderr",
     "output_type": "stream",
     "text": [
      "100%|██████████| 30/30 [00:05<00:00,  5.86it/s]\n"
     ]
    },
    {
     "data": {
      "text/html": [
       "<pre style=\"white-space:pre;overflow-x:auto;line-height:normal;font-family:Menlo,'DejaVu Sans Mono',consolas,'Courier New',monospace\">Selected <span style=\"color: #008080; text-decoration-color: #008080; font-weight: bold\">47</span> clusters <span style=\"font-weight: bold\">(</span>silhouette score = <span style=\"color: #008080; text-decoration-color: #008080; font-weight: bold\">0.588</span><span style=\"font-weight: bold\">)</span>\n",
       "</pre>\n"
      ],
      "text/plain": [
       "Selected \u001b[1;36m47\u001b[0m clusters \u001b[1m(\u001b[0msilhouette score = \u001b[1;36m0.588\u001b[0m\u001b[1m)\u001b[0m\n"
      ]
     },
     "metadata": {},
     "output_type": "display_data"
    },
    {
     "data": {
      "text/html": [
       "<pre style=\"white-space:pre;overflow-x:auto;line-height:normal;font-family:Menlo,'DejaVu Sans Mono',consolas,'Courier New',monospace\">=&gt; Starting RaVL Discovery - Step <span style=\"color: #008080; text-decoration-color: #008080; font-weight: bold\">2</span>: Identify image features contributing to classification errors\n",
       "</pre>\n"
      ],
      "text/plain": [
       "=> Starting RaVL Discovery - Step \u001b[1;36m2\u001b[0m: Identify image features contributing to classification errors\n"
      ]
     },
     "metadata": {},
     "output_type": "display_data"
    },
    {
     "data": {
      "text/html": [
       "<pre style=\"white-space:pre;overflow-x:auto;line-height:normal;font-family:Menlo,'DejaVu Sans Mono',consolas,'Courier New',monospace\">=&gt; Starting RaVL Discovery - Step <span style=\"color: #008080; text-decoration-color: #008080; font-weight: bold\">3</span>: Rank image features by degree of learned spurious correlation\n",
       "</pre>\n"
      ],
      "text/plain": [
       "=> Starting RaVL Discovery - Step \u001b[1;36m3\u001b[0m: Rank image features by degree of learned spurious correlation\n"
      ]
     },
     "metadata": {},
     "output_type": "display_data"
    }
   ],
   "source": [
    "\n",
    "ranked_region_idx, table = discover(\n",
    "    reg_embs,\n",
    "    eval_df['true_label'].values,\n",
    "    img_pred_label,\n",
    "    img_score_dist,\n",
    "    reg_score_dist,\n",
    "    eval_df[\"num_regions\"].values.tolist(),\n",
    ")"
   ]
  },
  {
   "cell_type": "markdown",
   "metadata": {},
   "source": [
    "## Step 4: Summarize Results"
   ]
  },
  {
   "cell_type": "code",
   "execution_count": 20,
   "metadata": {},
   "outputs": [
    {
     "data": {
      "text/html": [
       "<pre style=\"white-space:pre;overflow-x:auto;line-height:normal;font-family:Menlo,'DejaVu Sans Mono',consolas,'Courier New',monospace\">RaVL discovered a spurious correlation between the following image feature and textual attribute:\n",
       "</pre>\n"
      ],
      "text/plain": [
       "RaVL discovered a spurious correlation between the following image feature and textual attribute:\n"
      ]
     },
     "metadata": {},
     "output_type": "display_data"
    },
    {
     "data": {
      "text/html": [
       "<pre style=\"white-space:pre;overflow-x:auto;line-height:normal;font-family:Menlo,'DejaVu Sans Mono',consolas,'Courier New',monospace\">Image feature <span style=\"font-weight: bold\">(</span>top ten ranked regions discovered by RaVL<span style=\"font-weight: bold\">)</span>:\n",
       "</pre>\n"
      ],
      "text/plain": [
       "Image feature \u001b[1m(\u001b[0mtop ten ranked regions discovered by RaVL\u001b[1m)\u001b[0m:\n"
      ]
     },
     "metadata": {},
     "output_type": "display_data"
    },
    {
     "data": {
      "image/png": "[encoded data removed]",
      "text/plain": [
       "<Figure size 600x200 with 10 Axes>"
      ]
     },
     "metadata": {},
     "output_type": "display_data"
    },
    {
     "data": {
      "text/html": [
       "<pre style=\"white-space:pre;overflow-x:auto;line-height:normal;font-family:Menlo,'DejaVu Sans Mono',consolas,'Courier New',monospace\">Textual attribute:\n",
       "</pre>\n"
      ],
      "text/plain": [
       "Textual attribute:\n"
      ]
     },
     "metadata": {},
     "output_type": "display_data"
    },
    {
     "data": {
      "text/html": [
       "<pre style=\"white-space:pre;overflow-x:auto;line-height:normal;font-family:Menlo,'DejaVu Sans Mono',consolas,'Courier New',monospace\">nine\n",
       "</pre>\n"
      ],
      "text/plain": [
       "nine\n"
      ]
     },
     "metadata": {},
     "output_type": "display_data"
    },
    {
     "data": {
      "text/html": [
       "<pre style=\"white-space:pre;overflow-x:auto;line-height:normal;font-family:Menlo,'DejaVu Sans Mono',consolas,'Courier New',monospace\">Subgroup Performance Gaps:\n",
       "</pre>\n"
      ],
      "text/plain": [
       "Subgroup Performance Gaps:\n"
      ]
     },
     "metadata": {},
     "output_type": "display_data"
    },
    {
     "data": {
      "text/html": [
       "<pre style=\"white-space:pre;overflow-x:auto;line-height:normal;font-family:Menlo,'DejaVu Sans Mono',consolas,'Courier New',monospace\">+-------------+----------------------------------+---------------------------------+\n",
       "| Image Label | Accuracy when feature is present | Accuracy when feature is absent |\n",
       "+-------------+----------------------------------+---------------------------------+\n",
       "|     nine    |         <span style=\"color: #008080; text-decoration-color: #008080; font-weight: bold\">1.0</span> <span style=\"font-weight: bold\">(</span><span style=\"color: #008080; text-decoration-color: #008080; font-weight: bold\">54</span> samples<span style=\"font-weight: bold\">)</span>         |        <span style=\"color: #008080; text-decoration-color: #008080; font-weight: bold\">0.041</span> <span style=\"font-weight: bold\">(</span><span style=\"color: #008080; text-decoration-color: #008080; font-weight: bold\">49</span> samples<span style=\"font-weight: bold\">)</span>       |\n",
       "|     one     |         <span style=\"color: #008080; text-decoration-color: #008080; font-weight: bold\">0.0</span> <span style=\"font-weight: bold\">(</span><span style=\"color: #008080; text-decoration-color: #008080; font-weight: bold\">56</span> samples<span style=\"font-weight: bold\">)</span>         |         <span style=\"color: #008080; text-decoration-color: #008080; font-weight: bold\">1.0</span> <span style=\"font-weight: bold\">(</span><span style=\"color: #008080; text-decoration-color: #008080; font-weight: bold\">65</span> samples<span style=\"font-weight: bold\">)</span>        |\n",
       "|    three    |         <span style=\"color: #008080; text-decoration-color: #008080; font-weight: bold\">1.0</span> <span style=\"font-weight: bold\">(</span><span style=\"color: #008080; text-decoration-color: #008080; font-weight: bold\">37</span> samples<span style=\"font-weight: bold\">)</span>         |         <span style=\"color: #008080; text-decoration-color: #008080; font-weight: bold\">1.0</span> <span style=\"font-weight: bold\">(</span><span style=\"color: #008080; text-decoration-color: #008080; font-weight: bold\">59</span> samples<span style=\"font-weight: bold\">)</span>        |\n",
       "|     two     |        <span style=\"color: #008080; text-decoration-color: #008080; font-weight: bold\">0.694</span> <span style=\"font-weight: bold\">(</span><span style=\"color: #008080; text-decoration-color: #008080; font-weight: bold\">36</span> samples<span style=\"font-weight: bold\">)</span>        |         <span style=\"color: #008080; text-decoration-color: #008080; font-weight: bold\">1.0</span> <span style=\"font-weight: bold\">(</span><span style=\"color: #008080; text-decoration-color: #008080; font-weight: bold\">62</span> samples<span style=\"font-weight: bold\">)</span>        |\n",
       "|    seven    |        <span style=\"color: #008080; text-decoration-color: #008080; font-weight: bold\">0.69</span> <span style=\"font-weight: bold\">(</span><span style=\"color: #008080; text-decoration-color: #008080; font-weight: bold\">58</span> samples<span style=\"font-weight: bold\">)</span>         |        <span style=\"color: #008080; text-decoration-color: #008080; font-weight: bold\">0.98</span> <span style=\"font-weight: bold\">(</span><span style=\"color: #008080; text-decoration-color: #008080; font-weight: bold\">50</span> samples<span style=\"font-weight: bold\">)</span>        |\n",
       "|     zero    |        <span style=\"color: #008080; text-decoration-color: #008080; font-weight: bold\">0.981</span> <span style=\"font-weight: bold\">(</span><span style=\"color: #008080; text-decoration-color: #008080; font-weight: bold\">52</span> samples<span style=\"font-weight: bold\">)</span>        |         <span style=\"color: #008080; text-decoration-color: #008080; font-weight: bold\">1.0</span> <span style=\"font-weight: bold\">(</span><span style=\"color: #008080; text-decoration-color: #008080; font-weight: bold\">41</span> samples<span style=\"font-weight: bold\">)</span>        |\n",
       "|    eight    |        <span style=\"color: #008080; text-decoration-color: #008080; font-weight: bold\">0.023</span> <span style=\"font-weight: bold\">(</span><span style=\"color: #008080; text-decoration-color: #008080; font-weight: bold\">43</span> samples<span style=\"font-weight: bold\">)</span>        |        <span style=\"color: #008080; text-decoration-color: #008080; font-weight: bold\">0.964</span> <span style=\"font-weight: bold\">(</span><span style=\"color: #008080; text-decoration-color: #008080; font-weight: bold\">55</span> samples<span style=\"font-weight: bold\">)</span>       |\n",
       "|     five    |        <span style=\"color: #008080; text-decoration-color: #008080; font-weight: bold\">0.684</span> <span style=\"font-weight: bold\">(</span><span style=\"color: #008080; text-decoration-color: #008080; font-weight: bold\">38</span> samples<span style=\"font-weight: bold\">)</span>        |         <span style=\"color: #008080; text-decoration-color: #008080; font-weight: bold\">1.0</span> <span style=\"font-weight: bold\">(</span><span style=\"color: #008080; text-decoration-color: #008080; font-weight: bold\">42</span> samples<span style=\"font-weight: bold\">)</span>        |\n",
       "|     six     |        <span style=\"color: #008080; text-decoration-color: #008080; font-weight: bold\">0.782</span> <span style=\"font-weight: bold\">(</span><span style=\"color: #008080; text-decoration-color: #008080; font-weight: bold\">55</span> samples<span style=\"font-weight: bold\">)</span>        |         <span style=\"color: #008080; text-decoration-color: #008080; font-weight: bold\">1.0</span> <span style=\"font-weight: bold\">(</span><span style=\"color: #008080; text-decoration-color: #008080; font-weight: bold\">50</span> samples<span style=\"font-weight: bold\">)</span>        |\n",
       "|     four    |        <span style=\"color: #008080; text-decoration-color: #008080; font-weight: bold\">0.644</span> <span style=\"font-weight: bold\">(</span><span style=\"color: #008080; text-decoration-color: #008080; font-weight: bold\">45</span> samples<span style=\"font-weight: bold\">)</span>        |         <span style=\"color: #008080; text-decoration-color: #008080; font-weight: bold\">1.0</span> <span style=\"font-weight: bold\">(</span><span style=\"color: #008080; text-decoration-color: #008080; font-weight: bold\">53</span> samples<span style=\"font-weight: bold\">)</span>        |\n",
       "+-------------+----------------------------------+---------------------------------+\n",
       "</pre>\n"
      ],
      "text/plain": [
       "+-------------+----------------------------------+---------------------------------+\n",
       "| Image Label | Accuracy when feature is present | Accuracy when feature is absent |\n",
       "+-------------+----------------------------------+---------------------------------+\n",
       "|     nine    |         \u001b[1;36m1.0\u001b[0m \u001b[1m(\u001b[0m\u001b[1;36m54\u001b[0m samples\u001b[1m)\u001b[0m         |        \u001b[1;36m0.041\u001b[0m \u001b[1m(\u001b[0m\u001b[1;36m49\u001b[0m samples\u001b[1m)\u001b[0m       |\n",
       "|     one     |         \u001b[1;36m0.0\u001b[0m \u001b[1m(\u001b[0m\u001b[1;36m56\u001b[0m samples\u001b[1m)\u001b[0m         |         \u001b[1;36m1.0\u001b[0m \u001b[1m(\u001b[0m\u001b[1;36m65\u001b[0m samples\u001b[1m)\u001b[0m        |\n",
       "|    three    |         \u001b[1;36m1.0\u001b[0m \u001b[1m(\u001b[0m\u001b[1;36m37\u001b[0m samples\u001b[1m)\u001b[0m         |         \u001b[1;36m1.0\u001b[0m \u001b[1m(\u001b[0m\u001b[1;36m59\u001b[0m samples\u001b[1m)\u001b[0m        |\n",
       "|     two     |        \u001b[1;36m0.694\u001b[0m \u001b[1m(\u001b[0m\u001b[1;36m36\u001b[0m samples\u001b[1m)\u001b[0m        |         \u001b[1;36m1.0\u001b[0m \u001b[1m(\u001b[0m\u001b[1;36m62\u001b[0m samples\u001b[1m)\u001b[0m        |\n",
       "|    seven    |        \u001b[1;36m0.69\u001b[0m \u001b[1m(\u001b[0m\u001b[1;36m58\u001b[0m samples\u001b[1m)\u001b[0m         |        \u001b[1;36m0.98\u001b[0m \u001b[1m(\u001b[0m\u001b[1;36m50\u001b[0m samples\u001b[1m)\u001b[0m        |\n",
       "|     zero    |        \u001b[1;36m0.981\u001b[0m \u001b[1m(\u001b[0m\u001b[1;36m52\u001b[0m samples\u001b[1m)\u001b[0m        |         \u001b[1;36m1.0\u001b[0m \u001b[1m(\u001b[0m\u001b[1;36m41\u001b[0m samples\u001b[1m)\u001b[0m        |\n",
       "|    eight    |        \u001b[1;36m0.023\u001b[0m \u001b[1m(\u001b[0m\u001b[1;36m43\u001b[0m samples\u001b[1m)\u001b[0m        |        \u001b[1;36m0.964\u001b[0m \u001b[1m(\u001b[0m\u001b[1;36m55\u001b[0m samples\u001b[1m)\u001b[0m       |\n",
       "|     five    |        \u001b[1;36m0.684\u001b[0m \u001b[1m(\u001b[0m\u001b[1;36m38\u001b[0m samples\u001b[1m)\u001b[0m        |         \u001b[1;36m1.0\u001b[0m \u001b[1m(\u001b[0m\u001b[1;36m42\u001b[0m samples\u001b[1m)\u001b[0m        |\n",
       "|     six     |        \u001b[1;36m0.782\u001b[0m \u001b[1m(\u001b[0m\u001b[1;36m55\u001b[0m samples\u001b[1m)\u001b[0m        |         \u001b[1;36m1.0\u001b[0m \u001b[1m(\u001b[0m\u001b[1;36m50\u001b[0m samples\u001b[1m)\u001b[0m        |\n",
       "|     four    |        \u001b[1;36m0.644\u001b[0m \u001b[1m(\u001b[0m\u001b[1;36m45\u001b[0m samples\u001b[1m)\u001b[0m        |         \u001b[1;36m1.0\u001b[0m \u001b[1m(\u001b[0m\u001b[1;36m53\u001b[0m samples\u001b[1m)\u001b[0m        |\n",
       "+-------------+----------------------------------+---------------------------------+\n"
      ]
     },
     "metadata": {},
     "output_type": "display_data"
    }
   ],
   "source": [
    "print(\"RaVL discovered a spurious correlation between the following image feature and textual attribute:\")\n",
    "print(\"Image feature (top ten ranked regions discovered by RaVL):\")\n",
    "\n",
    "idxs = torch.split(torch.arange(eval_df['num_regions'].sum()), eval_df['num_regions'].values.tolist())\n",
    "eval_df['reg_idx'] = [i.numpy() for i in idxs]\n",
    "\n",
    "fig, axes = plt.subplots(2, 5, figsize=(6, 2)) \n",
    "plt.subplots_adjust(top = 0.99, bottom=0.01, hspace=0.05, wspace=0.2)\n",
    "for idx, region_id in enumerate(ranked_region_idx[0:10]): \n",
    "    sub_df = eval_df[eval_df['reg_idx'].apply(lambda x: region_id in x)]\n",
    "    img_pixel_data = sub_df['pixel_data'].values[0]\n",
    "    reg_coord = sub_df['region_coord'].values[0][sub_df['reg_idx'].values[0].tolist().index(region_id)]\n",
    "    reg_pixel_data = img_pixel_data[:,reg_coord[1]:reg_coord[3],reg_coord[0]:reg_coord[2]]\n",
    "\n",
    "    axes[idx//5, idx%5].imshow(np.transpose(reg_pixel_data, (1,2,0)))\n",
    "    axes[idx//5, idx%5].get_xaxis().set_visible(False)\n",
    "    axes[idx//5, idx%5].get_yaxis().set_visible(False)\n",
    "plt.show()\n",
    "\n",
    "\n",
    "print(\"Textual attribute:\")\n",
    "df = pd.DataFrame(table.rows, columns=table.field_names)\n",
    "attr = df['image-label'][(df['acc-present'].apply(lambda x: float(x.split('(')[0])) - df['acc-absent'].apply(lambda x: float(x.split('(')[0]))).argmax()]\n",
    "print(attr) \n",
    "\n",
    "print(\"Subgroup Performance Gaps:\")\n",
    "table.field_names = [\n",
    "        \"Image Label\",\n",
    "        \"Accuracy when feature is present\", \n",
    "        \"Accuracy when feature is absent\"\n",
    "]\n",
    "print(table)\n",
    "\n"
   ]
  },
  {
   "cell_type": "code",
   "execution_count": null,
   "metadata": {},
   "outputs": [],
   "source": []
  },
  {
   "cell_type": "code",
   "execution_count": null,
   "metadata": {},
   "outputs": [],
   "source": []
  }
 ],
 "metadata": {
  "kernelspec": {
   "display_name": "renv",
   "language": "python",
   "name": "python3"
  },
  "language_info": {
   "codemirror_mode": {
    "name": "ipython",
    "version": 3
   },
   "file_extension": ".py",
   "mimetype": "text/x-python",
   "name": "python",
   "nbconvert_exporter": "python",
   "pygments_lexer": "ipython3",
   "version": "3.8.10"
  }
 },
 "nbformat": 4,
 "nbformat_minor": 2
}
